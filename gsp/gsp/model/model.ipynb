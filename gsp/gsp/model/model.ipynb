{
 "cells": [
  {
   "cell_type": "code",
   "execution_count": 1,
   "metadata": {},
   "outputs": [],
   "source": [
    "from typing import List, cast\n",
    "import datetime\n",
    "import pandas as pd\n",
    "import logging \n",
    "import matplotlib.pyplot as plt\n",
    "from sklearn.multioutput import RegressorChain\n",
    "from xgboost import XGBRegressor\n",
    "from data import SCRAPED_STOCK_FILE_PATH \n",
    "from gsp.model.utils import (\n",
    "    MOVING_WINDOW_AGGREGATORS_ALIAS, \n",
    "    make_shift_in_groups, \n",
    "    make_mw_in_groups, \n",
    "    get_most_recent_working_date, \n",
    "    get_nth_previous_working_date,\n",
    "    show,\n",
    "    get_all_missing_stock_names,\n",
    "    get_minimal_stocks_existence_date\n",
    ")\n",
    "\n",
    "logger = logging.getLogger(__name__)"
   ]
  },
  {
   "cell_type": "markdown",
   "metadata": {},
   "source": [
    "GLOBAL PARAMETERS - SETTINGS"
   ]
  },
  {
   "cell_type": "code",
   "execution_count": null,
   "metadata": {},
   "outputs": [],
   "source": [
    "# --- MAIN SETUP ---\n",
    "MAIN_INDEX = [\"Date\", \"Name\"]\n",
    "SECONDARY_INDEX = [\"Name\"]\n",
    "YEARS_BACK_TO_CONSIDER = 5\n",
    "N_STEP_PREDICTION = 15\n",
    "DAYS_BACK_TO_TEST = 3*N_STEP_PREDICTION\n",
    "TODAY = get_most_recent_working_date()\n",
    "DATA_START_DATE = TODAY - datetime.timedelta(days=365*YEARS_BACK_TO_CONSIDER)\n",
    "\n",
    "\n",
    "# --- TRAINING & TESTING SETUP ---\n",
    "TRAINING_END_DATE = get_nth_previous_working_date(n=DAYS_BACK_TO_TEST, date=TODAY)\n",
    "TESTING_START_DATE = get_nth_previous_working_date(n=-N_STEP_PREDICTION, date=TRAINING_END_DATE)\n",
    "TESTING_END_DATE = get_nth_previous_working_date(n=N_STEP_PREDICTION, date=TODAY)\n",
    "\n",
    "show(DATA_START_DATE, TRAINING_END_DATE, TESTING_START_DATE, TESTING_END_DATE, TODAY)\n"
   ]
  },
  {
   "cell_type": "markdown",
   "metadata": {},
   "source": [
    "LOAD DATA"
   ]
  },
  {
   "cell_type": "code",
   "execution_count": null,
   "metadata": {},
   "outputs": [],
   "source": [
    "stocks = (\n",
    "    pd.read_csv(\n",
    "        SCRAPED_STOCK_FILE_PATH,\n",
    "        dtype={\n",
    "            \"Date\": \"period[D]\",\n",
    "            \"Open\": \"float\",\n",
    "            \"High\": \"float\",\n",
    "            \"Low\": \"float\",\n",
    "            \"Close\": \"float\",\n",
    "            \"Volume\": \"int\",\n",
    "            \"Area\": \"category\",\n",
    "            \"Name\": \"category\",\n",
    "        },\n",
    "        index_col=MAIN_INDEX,\n",
    "    )\n",
    "    .sort_index()\n",
    "    .loc[DATA_START_DATE.isoformat():]\n",
    ")\n",
    "\n",
    "show(stocks)"
   ]
  },
  {
   "cell_type": "markdown",
   "metadata": {},
   "source": [
    "PREPROCESSING"
   ]
  },
  {
   "cell_type": "code",
   "execution_count": null,
   "metadata": {},
   "outputs": [],
   "source": [
    "def preprocessX(\n",
    "    data: pd.DataFrame,\n",
    "    shifts_list: List[int],\n",
    "    windows_list: List[int],\n",
    "    aggregators_list: List[MOVING_WINDOW_AGGREGATORS_ALIAS] | MOVING_WINDOW_AGGREGATORS_ALIAS,\n",
    ") -> pd.DataFrame:\n",
    "    data = data.copy()\n",
    "\n",
    "    data[\"DayOfWeek\"] = data.index.get_level_values(\"Date\").dayofweek # type: ignore\n",
    "    data[\"Month\"] = data.index.get_level_values(\"Date\").month # type: ignore\n",
    "    data[\"Year\"] = data.index.get_level_values(\"Date\").year # type: ignore\n",
    "    data[\"IsMonthStart\"] = data.index.get_level_values(\"Date\").day < 5 # type: ignore\n",
    "    data[\"IsMonthEnd\"] = data.index.get_level_values(\"Date\").days_in_month - data.index.get_level_values(\"Date\").day < 5 # type: ignore\n",
    "    data[\"Quarter\"] = data.index.get_level_values(\"Date\").quarter # type: ignore\n",
    "    data[\"NameCat\"] = data.index.get_level_values(\"Name\")\n",
    "    # Prodcut lunches from those comapnies\n",
    "\n",
    "    grouped_lags: List[pd.DataFrame | pd.Series] = [\n",
    "        make_shift_in_groups(df=data, groupby=SECONDARY_INDEX, column=\"Close\", shift=shifts_list),\n",
    "        make_mw_in_groups(df=data, groupby=SECONDARY_INDEX, column=\"Close\", window=windows_list, aggregator=aggregators_list),\n",
    "    ]\n",
    "\n",
    "    data_lag = data.join(grouped_lags)\n",
    "\n",
    "    categorical_features = [\"Area\",\"NameCat\",\"DayOfWeek\", \"Month\", \"Year\",\"IsMonthStart\", \"IsMonthEnd\", \"Quarter\"]\n",
    "\n",
    "    data_encoded = pd.get_dummies(data_lag, columns=categorical_features, drop_first=True)\n",
    "\n",
    "    return data_encoded.drop(columns=[\"Open\", \"High\", \"Low\", \"Adj Close\"])\n",
    "\n",
    "\n",
    "def preprocessY(data: pd.DataFrame) -> pd.DataFrame:\n",
    "    data = data.copy()\n",
    "    return make_shift_in_groups(df = data, groupby=SECONDARY_INDEX, column=\"Close\", shift=[-i for i in range(1,N_STEP_PREDICTION+1)])\n",
    "\n",
    "X = preprocessX(\n",
    "    stocks, \n",
    "    shifts_list=[1, 2, 3, 4, 8, 16, 24, 32], \n",
    "    windows_list=[4, 8, 16, 24, 32], \n",
    "    aggregators_list=\"mean\"\n",
    ")\n",
    "y = preprocessY(stocks)\n",
    "\n",
    "show(X, y)"
   ]
  },
  {
   "cell_type": "markdown",
   "metadata": {},
   "source": [
    "SPLITTING DATA"
   ]
  },
  {
   "cell_type": "code",
   "execution_count": null,
   "metadata": {},
   "outputs": [],
   "source": [
    "X_train, y_train = (\n",
    "    X.loc[:TRAINING_END_DATE.isoformat()], \n",
    "    y.loc[:TRAINING_END_DATE.isoformat()]\n",
    ")\n",
    "X_test, y_test = (\n",
    "    X.loc[TESTING_START_DATE.isoformat():TESTING_END_DATE.isoformat()], \n",
    "    y.loc[TESTING_START_DATE.isoformat():TESTING_END_DATE.isoformat()]\n",
    ") \n",
    "\n",
    "show(X_train, y_train, X_test, y_test)\n"
   ]
  },
  {
   "cell_type": "markdown",
   "metadata": {},
   "source": [
    "MODELLING"
   ]
  },
  {
   "cell_type": "code",
   "execution_count": null,
   "metadata": {},
   "outputs": [],
   "source": [
    "def create_model(**hyper_params) -> RegressorChain:\n",
    "    model = RegressorChain(XGBRegressor(**hyper_params))\n",
    "    return model \n",
    "\n",
    "model = create_model()"
   ]
  },
  {
   "cell_type": "markdown",
   "metadata": {},
   "source": [
    "TRAININING & TESTING"
   ]
  },
  {
   "cell_type": "code",
   "execution_count": null,
   "metadata": {},
   "outputs": [],
   "source": [
    "logger.info(\"Fitting the model\")\n",
    "model = model.fit(X_train, y_train)\n",
    "logger.info(\"Model fitted\")"
   ]
  }
 ],
 "metadata": {
  "kernelspec": {
   "display_name": "gsp-xcVphxGa-py3.12",
   "language": "python",
   "name": "python3"
  },
  "language_info": {
   "codemirror_mode": {
    "name": "ipython",
    "version": 3
   },
   "file_extension": ".py",
   "mimetype": "text/x-python",
   "name": "python",
   "nbconvert_exporter": "python",
   "pygments_lexer": "ipython3",
   "version": "3.12.3"
  }
 },
 "nbformat": 4,
 "nbformat_minor": 2
}
