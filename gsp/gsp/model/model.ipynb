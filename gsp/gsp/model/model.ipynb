{
 "cells": [
  {
   "cell_type": "code",
   "execution_count": null,
   "metadata": {},
   "outputs": [],
   "source": [
    "from typing import List, Dict, cast\n",
    "import datetime\n",
    "import pandas as pd\n",
    "from data import SCRAPED_STOCK_FILE_PATH \n",
    "from gsp.model.utils import make_shift_in_groups, make_mw_in_groups, MOVING_WINDOW_AGGREGATORS_ALIAS\n",
    "import logging \n",
    "\n",
    "logger = logging.getLogger(__name__)"
   ]
  },
  {
   "cell_type": "markdown",
   "metadata": {},
   "source": [
    "GLOBAL PARAMETERS - SETTINGS"
   ]
  },
  {
   "cell_type": "code",
   "execution_count": null,
   "metadata": {},
   "outputs": [],
   "source": [
    "# --- MAIN SETUP ---\n",
    "MAIN_INDEX = [\"Date\", \"Name\"]\n",
    "SECONDARY_INDEX = [\"Name\"]\n",
    "YEARS_BACK_TO_CONSIDER = 5\n",
    "N_STEP_PREDICTION = 15\n",
    "DAYS_BACK_TO_TEST = 3*N_STEP_PREDICTION\n",
    "TODAY = datetime.datetime.now().date()\n",
    "DATA_START_DATE = TODAY - pd.DateOffset(years=YEARS_BACK_TO_CONSIDER)\n",
    "\n",
    "\n",
    "# --- TRAINING & TESTING SETUP ---\n",
    "TRAINING_END_DATE = TODAY - pd.DateOffset(days=DAYS_BACK_TO_TEST)\n",
    "TESTING_START_DATE = TRAINING_END_DATE + pd.DateOffset(days=N_STEP_PREDICTION)\n",
    "TESTING_END_DATE = TODAY - pd.DateOffset(days=N_STEP_PREDICTION)"
   ]
  },
  {
   "cell_type": "markdown",
   "metadata": {},
   "source": [
    "LOAD DATA"
   ]
  },
  {
   "cell_type": "code",
   "execution_count": null,
   "metadata": {},
   "outputs": [],
   "source": [
    "stocks = (\n",
    "    pd.read_csv(\n",
    "        SCRAPED_STOCK_FILE_PATH,\n",
    "        dtype={\n",
    "            \"Date\": \"period[D]\",\n",
    "            \"Open\": \"float\",\n",
    "            \"High\": \"float\",\n",
    "            \"Low\": \"float\",\n",
    "            \"Close\": \"float\",\n",
    "            \"Volume\": \"int\",\n",
    "            \"Area\": \"category\",\n",
    "            \"Name\": \"category\",\n",
    "        },\n",
    "        index_col=MAIN_INDEX,\n",
    "    )\n",
    "    .sort_index()\n",
    "    .loc[DATA_START_DATE:]\n",
    ")\n",
    "\n",
    "stocks"
   ]
  },
  {
   "cell_type": "markdown",
   "metadata": {},
   "source": [
    "PREPROCESSING"
   ]
  },
  {
   "cell_type": "code",
   "execution_count": null,
   "metadata": {},
   "outputs": [],
   "source": [
    "def preprocessX(\n",
    "    data: pd.DataFrame,\n",
    "    shifts_list: List[int],\n",
    "    windows_list: List[int],\n",
    "    aggregators_list: List[MOVING_WINDOW_AGGREGATORS_ALIAS] | MOVING_WINDOW_AGGREGATORS_ALIAS,\n",
    ") -> pd.DataFrame:\n",
    "    data = data.copy()\n",
    "\n",
    "    data[\"DayOfWeek\"] = data.index.get_level_values(\"Date\").dayofweek # type: ignore\n",
    "    data[\"Month\"] = data.index.get_level_values(\"Date\").month # type: ignore\n",
    "    data[\"Year\"] = data.index.get_level_values(\"Date\").year # type: ignore\n",
    "    data[\"IsMonthStart\"] = data.index.get_level_values(\"Date\").day < 5 # type: ignore\n",
    "    data[\"IsMonthEnd\"] = data.index.get_level_values(\"Date\").days_in_month - data.index.get_level_values(\"Date\").day < 5 # type: ignore\n",
    "    data[\"Quarter\"] = data.index.get_level_values(\"Date\").quarter # type: ignore\n",
    "    data[\"NameCat\"] = data.index.get_level_values(\"Name\")\n",
    "    # Prodcut lunches from those comapnies\n",
    "\n",
    "    grouped_lags: List[pd.DataFrame | pd.Series] = [\n",
    "        make_shift_in_groups(df=data, groupby=SECONDARY_INDEX, column=\"Close\", shift=shifts_list),\n",
    "        make_mw_in_groups(df=data, groupby=SECONDARY_INDEX, column=\"Close\", window=windows_list, aggregator=aggregators_list),\n",
    "    ]\n",
    "\n",
    "    data_lag = data.join(grouped_lags)\n",
    "\n",
    "    categorical_features = [\"Area\",\"NameCat\",\"DayOfWeek\", \"Month\", \"Year\",\"IsMonthStart\", \"IsMonthEnd\", \"Quarter\"]\n",
    "\n",
    "    data_encoded = pd.get_dummies(data_lag, columns=categorical_features, drop_first=True)\n",
    "\n",
    "    return data_encoded.drop(columns=[\"Open\", \"High\", \"Low\", \"Adj Close\"])\n",
    "\n",
    "\n",
    "def preprocessY(data: pd.DataFrame) -> pd.DataFrame:\n",
    "    data = data.copy()\n",
    "    return make_shift_in_groups(df = data, groupby=SECONDARY_INDEX, column=\"Close\", shift=[-i for i in range(1,N_STEP_PREDICTION+1)])\n",
    "\n",
    "X = preprocessX(\n",
    "    stocks, \n",
    "    shifts_list=[1, 2, 3, 4, 8, 16, 24, 32], \n",
    "    windows_list=[4, 8, 16, 24, 32], \n",
    "    aggregators_list=\"mean\"\n",
    ")\n",
    "y = preprocessY(stocks)"
   ]
  },
  {
   "cell_type": "code",
   "execution_count": null,
   "metadata": {},
   "outputs": [],
   "source": [
    "X\n",
    " "
   ]
  },
  {
   "cell_type": "code",
   "execution_count": null,
   "metadata": {},
   "outputs": [],
   "source": [
    "y"
   ]
  },
  {
   "cell_type": "markdown",
   "metadata": {},
   "source": [
    "TRAINING"
   ]
  },
  {
   "cell_type": "code",
   "execution_count": null,
   "metadata": {},
   "outputs": [],
   "source": [
    "# make training date as everything that was until today - DAYS_BACK_TO_TEST\n",
    "\n",
    "X_train, y_train = X.loc[:TRAINING_END_DATE] , y.loc[:TRAINING_END_DATE]\n",
    "X_test, y_test = X.loc[TESTING_START_DATE:TESTING_END_DATE] , y.loc[TESTING_START_DATE:TESTING_END_DATE]\n",
    "\n",
    "display(X_train, y_train, X_test, y_test)\n",
    "\n",
    "#  --- NOTICE ---\n",
    "\"\"\"\n",
    "There is a bug with predictions dates.\n",
    "\n",
    "It predicts for next 15 WORKING DAYS.\n",
    "When we select the data we include selecting ALL days, not only working days.\n",
    "To solve it we would need not to include FREE days in calculating the\n",
    "\"\"\"\n"
   ]
  },
  {
   "cell_type": "code",
   "execution_count": null,
   "metadata": {},
   "outputs": [],
   "source": []
  }
 ],
 "metadata": {
  "kernelspec": {
   "display_name": "gsp-xcVphxGa-py3.12",
   "language": "python",
   "name": "python3"
  },
  "language_info": {
   "codemirror_mode": {
    "name": "ipython",
    "version": 3
   },
   "file_extension": ".py",
   "mimetype": "text/x-python",
   "name": "python",
   "nbconvert_exporter": "python",
   "pygments_lexer": "ipython3",
   "version": "3.12.3"
  }
 },
 "nbformat": 4,
 "nbformat_minor": 2
}
