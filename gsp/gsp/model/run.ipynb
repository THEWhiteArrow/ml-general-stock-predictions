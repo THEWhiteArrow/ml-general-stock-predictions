{
 "cells": [
  {
   "cell_type": "code",
   "execution_count": null,
   "metadata": {},
   "outputs": [],
   "source": [
    "import pandas as pd\n",
    "import matplotlib.pyplot as plt\n",
    "import seaborn as sns\n",
    "import numpy as np\n",
    "from data import SCRAPED_DIR\n",
    "import datetime"
   ]
  },
  {
   "cell_type": "markdown",
   "metadata": {},
   "source": [
    "LOAD DATA"
   ]
  },
  {
   "cell_type": "code",
   "execution_count": null,
   "metadata": {},
   "outputs": [],
   "source": [
    "MAIN_INDEX = [\"Date\",\"Area\",\"Name\"]\n",
    "SECONDARY_INDEX = [\"Area\",\"Name\"]\n",
    "YEARS_BACK_TO_CONSIDER = 5\n",
    "\n",
    "stocks = pd.read_csv(\n",
    "    f\"{SCRAPED_DIR}/stocks.csv\",\n",
    "    dtype={\n",
    "        \"Date\": \"period[D]\",\n",
    "        \"Open\": \"float\",\n",
    "        \"High\": \"float\",\n",
    "        \"Low\": \"float\",\n",
    "        \"Close\": \"float\",\n",
    "        \"Volume\": \"int\",\n",
    "        \"Area\": \"category\",\n",
    "        \"Name\": \"string\",\n",
    "    },\n",
    "    index_col=MAIN_INDEX,\n",
    ").sort_index().loc[datetime.date.today()-pd.DateOffset(years=YEARS_BACK_TO_CONSIDER):]\n",
    "\n",
    "UNIQUE_AREAS = stocks.index.get_level_values(\"Area\").unique()"
   ]
  },
  {
   "cell_type": "code",
   "execution_count": null,
   "metadata": {},
   "outputs": [],
   "source": [
    "stocks"
   ]
  },
  {
   "cell_type": "code",
   "execution_count": null,
   "metadata": {},
   "outputs": [],
   "source": [
    "# for area in UNIQUE_AREAS:\n",
    "#     area_close = stocks\n",
    "#     fig = plt.figure(figsize=(10,5))\n",
    "#     fig.suptitle(f\"Close price for {area} area\")\n",
    "#     area_close.plot(label=f\"Close {area}\", ax=fig.gca(), color=\"blue\", legend=True)"
   ]
  },
  {
   "cell_type": "code",
   "execution_count": null,
   "metadata": {},
   "outputs": [],
   "source": []
  }
 ],
 "metadata": {
  "kernelspec": {
   "display_name": "gsp-xcVphxGa-py3.12",
   "language": "python",
   "name": "python3"
  },
  "language_info": {
   "codemirror_mode": {
    "name": "ipython",
    "version": 3
   },
   "file_extension": ".py",
   "mimetype": "text/x-python",
   "name": "python",
   "nbconvert_exporter": "python",
   "pygments_lexer": "ipython3",
   "version": "3.12.3"
  }
 },
 "nbformat": 4,
 "nbformat_minor": 2
}
