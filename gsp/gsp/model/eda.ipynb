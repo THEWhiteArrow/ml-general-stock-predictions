{
 "cells": [
  {
   "cell_type": "code",
   "execution_count": null,
   "metadata": {},
   "outputs": [],
   "source": [
    "import pandas as pd\n",
    "import matplotlib.pyplot as plt\n",
    "import matplotlib.dates as mdates\n",
    "import seaborn as sns\n",
    "import datetime\n",
    "from typing import cast\n",
    "from data import SCRAPED_STOCK_FILE_PATH"
   ]
  },
  {
   "cell_type": "markdown",
   "metadata": {},
   "source": [
    "LOAD DATA"
   ]
  },
  {
   "cell_type": "code",
   "execution_count": null,
   "metadata": {},
   "outputs": [],
   "source": [
    "MAIN_INDEX = [\"Date\",\"Area\",\"Name\"]\n",
    "SECONDARY_INDEX = [\"Area\",\"Name\"]\n",
    "\n",
    "YEARS_BACK_TO_CONSIDER = 5\n",
    "\n",
    "stocks = (\n",
    "    pd.read_csv(\n",
    "        SCRAPED_STOCK_FILE_PATH,\n",
    "        dtype={\n",
    "            \"Date\": \"period[D]\",\n",
    "            \"Open\": \"float\",\n",
    "            \"High\": \"float\",\n",
    "            \"Low\": \"float\",\n",
    "            \"Close\": \"float\",\n",
    "            \"Volume\": \"int\",\n",
    "            \"Area\": \"category\",\n",
    "            \"Name\": \"category\",\n",
    "        },\n",
    "        index_col=MAIN_INDEX,\n",
    "    )\n",
    "    .sort_index()\n",
    "    .loc[datetime.date.today() - pd.DateOffset(years=YEARS_BACK_TO_CONSIDER) :]\n",
    ")\n",
    "\n",
    "UNIQUE_AREAS = stocks.index.get_level_values(\"Area\").unique()"
   ]
  },
  {
   "cell_type": "code",
   "execution_count": null,
   "metadata": {},
   "outputs": [],
   "source": [
    "stocks"
   ]
  },
  {
   "cell_type": "markdown",
   "metadata": {},
   "source": [
    "**TODO:**\n",
    "- standardize stock prices for each stock"
   ]
  },
  {
   "cell_type": "markdown",
   "metadata": {},
   "source": [
    "INVESTIGATE STOCKS AREA HOMOGENEITY"
   ]
  },
  {
   "cell_type": "code",
   "execution_count": null,
   "metadata": {},
   "outputs": [],
   "source": [
    "def plot_comparison_in_groups(group : pd.DataFrame):\n",
    "    group.reset_index(\"Area\")[\"Close\"].unstack(\"Name\").plot(\n",
    "        title=cast(str, group.index.get_level_values(\"Area\")[0]),\n",
    "        ylabel=\"Close Price\",\n",
    "        xlabel=\"Date\",\n",
    "        legend=True,\n",
    "    )\n",
    "\n",
    "    plt.show()\n",
    "\n",
    "stocks.groupby(\"Area\", observed=True).apply(plot_comparison_in_groups)"
   ]
  },
  {
   "cell_type": "markdown",
   "metadata": {},
   "source": [
    "INVESTIGATE STOCKS AREA AVERAGE"
   ]
  },
  {
   "cell_type": "code",
   "execution_count": null,
   "metadata": {},
   "outputs": [],
   "source": [
    "def plot_average_in_groups(group: pd.DataFrame):\n",
    "    group.reset_index().groupby(\"Date\")[\"Close\"].mean().plot(\n",
    "        title=f\"Average Close Prices for {cast(str, group.index.get_level_values(\"Area\")[0])}\",\n",
    "        ylabel=\"Close Price\",\n",
    "        xlabel=\"Date\",\n",
    "        legend=True,\n",
    "    )\n",
    "    plt.show()\n",
    "\n",
    "\n",
    "stocks.groupby(\"Area\", observed=True).apply(plot_average_in_groups)"
   ]
  }
 ],
 "metadata": {
  "kernelspec": {
   "display_name": "gsp-xcVphxGa-py3.12",
   "language": "python",
   "name": "python3"
  },
  "language_info": {
   "codemirror_mode": {
    "name": "ipython",
    "version": 3
   },
   "file_extension": ".py",
   "mimetype": "text/x-python",
   "name": "python",
   "nbconvert_exporter": "python",
   "pygments_lexer": "ipython3",
   "version": "3.12.3"
  }
 },
 "nbformat": 4,
 "nbformat_minor": 2
}
