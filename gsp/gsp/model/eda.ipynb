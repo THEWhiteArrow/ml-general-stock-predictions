{
 "cells": [
  {
   "cell_type": "code",
   "execution_count": null,
   "metadata": {
    "metadata": {}
   },
   "outputs": [],
   "source": [
    "from typing import Dict, cast\n",
    "import datetime\n",
    "import numpy as np\n",
    "import pandas as pd\n",
    "import matplotlib.pyplot as plt\n",
    "import seaborn as sns\n",
    "from data import SCRAPED_STOCK_FILE_PATH\n",
    "from sklearn.preprocessing import StandardScaler"
   ]
  },
  {
   "cell_type": "markdown",
   "metadata": {},
   "source": [
    "LOAD DATA"
   ]
  },
  {
   "cell_type": "code",
   "execution_count": null,
   "metadata": {
    "metadata": {}
   },
   "outputs": [],
   "source": [
    "MAIN_INDEX = [\"date\", \"area\", \"symbol\"]\n",
    "SECONDARY_INDEX = [\"area\", \"symbol\"]\n",
    "\n",
    "YEARS_BACK_TO_CONSIDER = 5\n",
    "\n",
    "stocks = (\n",
    "    pd.read_csv(\n",
    "        SCRAPED_STOCK_FILE_PATH,\n",
    "        dtype={\n",
    "            \"date\": \"period[D]\",\n",
    "            \"open\": \"float\",\n",
    "            \"high\": \"float\",\n",
    "            \"low\": \"float\",\n",
    "            \"close\": \"float\",\n",
    "            \"volume\": \"int\",\n",
    "            \"area\": \"category\",\n",
    "            \"symbol\": \"category\",\n",
    "        },\n",
    "        index_col=MAIN_INDEX,\n",
    "    )\n",
    "    .sort_index()\n",
    "    .loc[datetime.date.today() - pd.DateOffset(years=YEARS_BACK_TO_CONSIDER) :]\n",
    ")\n",
    "\n",
    "UNIQUE_AREAS = stocks.index.get_level_values(\"area\").unique()\n",
    "stocks"
   ]
  },
  {
   "cell_type": "markdown",
   "metadata": {},
   "source": [
    "STANDARDIZE STOCKS CLOSE PRICES"
   ]
  },
  {
   "cell_type": "markdown",
   "metadata": {},
   "source": [
    "***NOTICE***\n",
    "- all the stocks are standardized separately - this will allow\n",
    "to display the stocks on the same plot"
   ]
  },
  {
   "cell_type": "code",
   "execution_count": null,
   "metadata": {
    "metadata": {}
   },
   "outputs": [],
   "source": [
    "scales_set: Dict[str, pd.DataFrame] = {}\n",
    "\n",
    "\n",
    "def standardize_stock_group(group: pd.DataFrame) -> pd.DataFrame:\n",
    "    scaler = StandardScaler()\n",
    "    scaler.fit(group)\n",
    "\n",
    "    stock_standardized = pd.DataFrame(\n",
    "        data=cast(np.ndarray, scaler.transform(group)), columns=group.columns, index=group.index\n",
    "    )\n",
    "    stock_scales = pd.DataFrame(\n",
    "        data=cast(np.ndarray, scaler.scale_).reshape(1, -1),\n",
    "        columns=group.columns,\n",
    "    )\n",
    "\n",
    "    scales_set[group.index.get_level_values(\"symbol\")[0]] = stock_scales\n",
    "    return stock_standardized\n",
    "\n",
    "\n",
    "std_stocks = stocks.groupby(SECONDARY_INDEX, observed=False, group_keys=False).apply(standardize_stock_group)\n",
    "std_stocks"
   ]
  },
  {
   "cell_type": "markdown",
   "metadata": {},
   "source": [
    "INVESTIGATE STOCKS AREA HOMOGENEITY"
   ]
  },
  {
   "cell_type": "code",
   "execution_count": null,
   "metadata": {
    "metadata": {}
   },
   "outputs": [],
   "source": [
    "def plot_comparison_in_groups(group: pd.DataFrame):\n",
    "    fig = plt.figure(figsize=(12, 6))\n",
    "    ax = fig.gca()\n",
    "\n",
    "    group.reset_index(\"area\")[\"close\"].unstack(\"symbol\").plot(\n",
    "        title=cast(str, group.index.get_level_values(\"area\")[0]),\n",
    "        ylabel=\"Close Price Standardized\",\n",
    "        xlabel=\"date\",\n",
    "        grid=True,\n",
    "        legend=True,\n",
    "        ax=ax,\n",
    "    )\n",
    "    ax.legend(\n",
    "        [\n",
    "            f\"{cast(str, line.get_label())} (scale: {scales_set[cast(str, line.get_label())]['close'].values[0]:.2f})\"\n",
    "            for line in ax.get_lines()\n",
    "        ]\n",
    "    )\n",
    "\n",
    "    plt.show()\n",
    "\n",
    "    return group\n",
    "\n",
    "\n",
    "std_stocks.groupby(\"area\", observed=True, group_keys=False).apply(plot_comparison_in_groups)"
   ]
  },
  {
   "cell_type": "markdown",
   "metadata": {},
   "source": [
    "INVESTIGATE STOCKS AREA AVERAGE"
   ]
  },
  {
   "cell_type": "code",
   "execution_count": null,
   "metadata": {
    "metadata": {}
   },
   "outputs": [],
   "source": [
    "def plot_average_in_groups(group: pd.DataFrame):\n",
    "    fig = plt.figure(figsize=(12, 6))\n",
    "    ax = fig.gca()\n",
    "\n",
    "    group.reset_index().groupby(\"date\")[\"close\"].mean().plot(\n",
    "        title=f\"Average Close Prices for {cast(str, group.index.get_level_values(\"Area\")[0])}\",\n",
    "        ylabel=\"Close Price Standardized\",\n",
    "        xlabel=\"date\",\n",
    "        legend=True,\n",
    "        ax=ax,\n",
    "    )\n",
    "    plt.show()\n",
    "    return group\n",
    "\n",
    "\n",
    "std_stocks.groupby(\"area\", observed=True).apply(plot_average_in_groups)"
   ]
  },
  {
   "cell_type": "markdown",
   "metadata": {},
   "source": [
    "FURTHER DATA EXPLORATION"
   ]
  },
  {
   "cell_type": "code",
   "execution_count": null,
   "metadata": {},
   "outputs": [],
   "source": [
    "sns.heatmap(stocks.corr(\"spearman\"), vmax=1, vmin=-1, center=0, annot=True)\n",
    "plt.show()"
   ]
  }
 ],
 "metadata": {
  "kernelspec": {
   "display_name": "gsp-xcVphxGa-py3.12",
   "language": "python",
   "name": "python3"
  },
  "language_info": {
   "codemirror_mode": {
    "name": "ipython",
    "version": 3
   },
   "file_extension": ".py",
   "mimetype": "text/x-python",
   "name": "python",
   "nbconvert_exporter": "python",
   "pygments_lexer": "ipython3",
   "version": "3.12.3"
  }
 },
 "nbformat": 4,
 "nbformat_minor": 2
}
