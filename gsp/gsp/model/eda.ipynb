{
 "cells": [
  {
   "cell_type": "code",
   "execution_count": null,
   "metadata": {
    "metadata": {}
   },
   "outputs": [],
   "source": [
    "from typing import Dict, cast\n",
    "import datetime\n",
    "import numpy as np\n",
    "import pandas as pd\n",
    "import matplotlib.pyplot as plt\n",
    "import seaborn as sns\n",
    "from data import SCRAPED_STOCK_FILE_PATH\n",
    "from sklearn.preprocessing import StandardScaler"
   ]
  },
  {
   "cell_type": "markdown",
   "metadata": {},
   "source": [
    "LOAD DATA"
   ]
  },
  {
   "cell_type": "code",
   "execution_count": null,
   "metadata": {
    "metadata": {}
   },
   "outputs": [],
   "source": [
    "MAIN_INDEX = [\"Date\",\"Area\",\"Name\"]\n",
    "SECONDARY_INDEX = [\"Area\",\"Name\"]\n",
    "\n",
    "YEARS_BACK_TO_CONSIDER = 5\n",
    "\n",
    "stocks = (\n",
    "    pd.read_csv(\n",
    "        SCRAPED_STOCK_FILE_PATH,\n",
    "        dtype={\n",
    "            \"Date\": \"period[D]\",\n",
    "            \"Open\": \"float\",\n",
    "            \"High\": \"float\",\n",
    "            \"Low\": \"float\",\n",
    "            \"Close\": \"float\",\n",
    "            \"Volume\": \"int\",\n",
    "            \"Area\": \"category\",\n",
    "            \"Name\": \"category\",\n",
    "        },\n",
    "        index_col=MAIN_INDEX,\n",
    "    )\n",
    "    .sort_index()\n",
    "    .loc[datetime.date.today() - pd.DateOffset(years=YEARS_BACK_TO_CONSIDER) :]\n",
    ")\n",
    "\n",
    "UNIQUE_AREAS = stocks.index.get_level_values(\"Area\").unique()\n",
    "stocks"
   ]
  },
  {
   "cell_type": "markdown",
   "metadata": {},
   "source": [
    "STANDARDIZE STOCKS CLOSE PRICES"
   ]
  },
  {
   "cell_type": "code",
   "execution_count": null,
   "metadata": {
    "metadata": {}
   },
   "outputs": [],
   "source": [
    "scales_set : Dict[str, pd.DataFrame] = {}\n",
    "\n",
    "\n",
    "def standardize_stock_group(group:pd.DataFrame) -> pd.DataFrame:\n",
    "    scaler = StandardScaler()\n",
    "    scaler.fit(group)\n",
    "\n",
    "    stock_standardized = pd.DataFrame(\n",
    "        data=cast(np.ndarray, scaler.transform(group)), \n",
    "        columns=group.columns, \n",
    "        index=group.index\n",
    "    )\n",
    "    stock_scales = pd.DataFrame(\n",
    "        data=cast(np.ndarray, scaler.scale_).reshape(1, -1), \n",
    "        columns=group.columns,\n",
    "    )\n",
    "\n",
    "    scales_set[group.index.get_level_values(\"Name\")[0]] = stock_scales\n",
    "    return stock_standardized\n",
    "\n",
    "std_stocks = stocks.groupby(SECONDARY_INDEX, observed=False, group_keys=False).apply(standardize_stock_group)\n",
    "std_stocks"
   ]
  },
  {
   "cell_type": "markdown",
   "metadata": {},
   "source": [
    "INVESTIGATE STOCKS AREA HOMOGENEITY"
   ]
  },
  {
   "cell_type": "code",
   "execution_count": null,
   "metadata": {
    "metadata": {}
   },
   "outputs": [],
   "source": [
    "def plot_comparison_in_groups(group : pd.DataFrame):\n",
    "    fig = plt.figure(figsize=(12, 6))\n",
    "    ax = fig.gca()\n",
    "\n",
    "    group.reset_index(\"Area\")[\"Close\"].unstack(\"Name\").plot(\n",
    "        title=cast(str, group.index.get_level_values(\"Area\")[0]),\n",
    "        ylabel=\"Close Price Standardized\",\n",
    "        xlabel=\"Date\",\n",
    "        grid=True,\n",
    "        legend=True,\n",
    "        ax=ax,\n",
    "    )\n",
    "    ax.legend([f\"{cast(str,line.get_label())} (scale: {scales_set[cast(str,line.get_label())]['Close'].values[0]:.2f})\" for line in ax.get_lines()])\n",
    "\n",
    "    plt.show()\n",
    "\n",
    "    return group\n",
    "\n",
    "std_stocks.groupby(\"Area\", observed=True, group_keys=False).apply(plot_comparison_in_groups)"
   ]
  },
  {
   "cell_type": "markdown",
   "metadata": {},
   "source": [
    "INVESTIGATE STOCKS AREA AVERAGE"
   ]
  },
  {
   "cell_type": "code",
   "execution_count": null,
   "metadata": {
    "metadata": {}
   },
   "outputs": [],
   "source": [
    "def plot_average_in_groups(group: pd.DataFrame):\n",
    "    fig = plt.figure(figsize=(12, 6))\n",
    "    ax = fig.gca()\n",
    "\n",
    "    group.reset_index().groupby(\"Date\")[\"Close\"].mean().plot(\n",
    "        title=f\"Average Close Prices for {cast(str, group.index.get_level_values(\"Area\")[0])}\",\n",
    "        ylabel=\"Close Price Standardized\",\n",
    "        xlabel=\"Date\",\n",
    "        legend=True,\n",
    "        ax=ax,\n",
    "    )\n",
    "    plt.show()\n",
    "    return group\n",
    "\n",
    "\n",
    "std_stocks.groupby(\"Area\", observed=True).apply(plot_average_in_groups)"
   ]
  },
  {
   "cell_type": "markdown",
   "metadata": {},
   "source": [
    "FURTHER DATA EXPLORATION"
   ]
  },
  {
   "cell_type": "code",
   "execution_count": null,
   "metadata": {},
   "outputs": [],
   "source": [
    "sns.heatmap(stocks.corr(\"spearman\"), vmax=1, vmin=-1, center=0, annot=True)\n",
    "plt.show()"
   ]
  }
 ],
 "metadata": {
  "kernelspec": {
   "display_name": "gsp-xcVphxGa-py3.12",
   "language": "python",
   "name": "python3"
  },
  "language_info": {
   "codemirror_mode": {
    "name": "ipython",
    "version": 3
   },
   "file_extension": ".py",
   "mimetype": "text/x-python",
   "name": "python",
   "nbconvert_exporter": "python",
   "pygments_lexer": "ipython3",
   "version": "3.12.3"
  }
 },
 "nbformat": 4,
 "nbformat_minor": 2
}
